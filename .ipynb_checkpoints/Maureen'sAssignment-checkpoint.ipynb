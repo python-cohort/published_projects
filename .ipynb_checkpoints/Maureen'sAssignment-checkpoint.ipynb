{
 "cells": [
  {
   "cell_type": "code",
   "execution_count": 36,
   "metadata": {
    "ExecuteTime": {
     "end_time": "2020-10-12T22:51:05.971751Z",
     "start_time": "2020-10-12T22:51:05.958752Z"
    }
   },
   "outputs": [
    {
     "data": {
      "text/plain": [
       "[Zoey-Jones-29, Michael-Smith-40, Alice-Waters-21]"
      ]
     },
     "execution_count": 36,
     "metadata": {},
     "output_type": "execute_result"
    }
   ],
   "source": [
    "class Person:\n",
    "    def __init__(self, firstname, lastname, age):\n",
    "        self.firstname = firstname\n",
    "        self.lastname = lastname\n",
    "        self.age = age\n",
    "        \n",
    "    def __repr__(self):\n",
    "        return f\"{self.firstname}-{self.lastname}-{self.age}\"\n",
    "\n",
    "def people_sort(lst: list, attr: str):\n",
    "    return sorted(lst, key=lambda elem: getattr(elem, attr))\n",
    "\n",
    "p1 = Person(\"Michael\", \"Smith\", 40)\n",
    "p2 = Person(\"Alice\", \"Waters\", 21)\n",
    "p3 = Person(\"Zoey\", \"Jones\", 29)\n",
    "\n",
    "people_sort([p1, p3, p2], \"lastname\")"
   ]
  },
  {
   "cell_type": "code",
   "execution_count": 48,
   "metadata": {
    "ExecuteTime": {
     "end_time": "2020-10-12T22:57:20.576205Z",
     "start_time": "2020-10-12T22:57:20.567212Z"
    }
   },
   "outputs": [
    {
     "data": {
      "text/plain": [
       "'blue is sky the'"
      ]
     },
     "execution_count": 48,
     "metadata": {},
     "output_type": "execute_result"
    }
   ],
   "source": [
    "def reverse_words(words):\n",
    "    id_word = [(idx, word) for idx, word in enumerate(words.split())]\n",
    "    return \" \".join([i[1] for i in sorted(id_word, key = lambda elem: elem[0], reverse=True)])\n",
    "\n",
    "reverse_words(\"a good   example\")\n",
    "reverse_words(\"  hello world!  \")\n",
    "reverse_words(\"the sky is blue\")"
   ]
  },
  {
   "cell_type": "code",
   "execution_count": 2,
   "metadata": {
    "ExecuteTime": {
     "end_time": "2020-10-15T18:38:09.934883Z",
     "start_time": "2020-10-15T18:38:09.916886Z"
    }
   },
   "outputs": [
    {
     "data": {
      "text/plain": [
       "[['$', '_', '_', '_'],\n",
       " ['$', '$', '_', '_'],\n",
       " ['$', '$', '$', '_'],\n",
       " ['$', '$', '$', '$']]"
      ]
     },
     "execution_count": 2,
     "metadata": {},
     "output_type": "execute_result"
    }
   ],
   "source": [
    "def split_n_cases(txt, cases):\n",
    "    if len(txt) % cases != 0:\n",
    "        return [\"Error\"]\n",
    "    return [txt[n:n + int(len(txt)/cases)] for n in range(0, len(txt), int(len(txt)/cases))]\n",
    "\n",
    "split_n_cases(\"Strengthened\", 6)\n",
    "split_n_cases(\"Unscrupulous\", 2)\n",
    "# list(range(0, 12, 2))\n",
    "split_n_cases(\"Fool's Errand\", 20)\n",
    "# split_n_cases(\"Evolutionary Biology\", 8)\n",
    "# # split_n_cases(\"Flavorless\", 1)\n",
    "# split_n_cases(\"Peppered Moth\", 6013)\n",
    "# split_n_cases(\"Peppered Moth\", 6)\n",
    "# split_n_cases(\"Unimaginatively\", 3)\n",
    "\n",
    "def build_staircase(height: int, block: str):\n",
    "    if height == 0:\n",
    "        return []\n",
    "    return [[block] * n + [\"_\"] * (height - idx)  for idx, n in enumerate(range(1, height + 1), 1)]\n",
    "\n",
    "build_staircase(4, \"$\")\n",
    "# build_staircase(0, '#')"
   ]
  },
  {
   "cell_type": "code",
   "execution_count": 176,
   "metadata": {
    "ExecuteTime": {
     "end_time": "2020-10-13T15:52:42.330507Z",
     "start_time": "2020-10-13T15:52:42.312508Z"
    }
   },
   "outputs": [
    {
     "data": {
      "text/plain": [
       "['is', 'to']"
      ]
     },
     "execution_count": 176,
     "metadata": {},
     "output_type": "execute_result"
    }
   ],
   "source": [
    "def find_shortest_words(txt):\n",
    "    as_is_txt = txt.split()\n",
    "#     clean_txt = [i.translate({ord(c): \"\" for c in \"0123456789!@#$%^&*()[]{};:,./<>?\\|`~-=_+\"}) for i in as_is_txt]\n",
    "    clean_txt = [i for i in as_is_txt if i.isalpha()]\n",
    "    return sorted([i.lower() for i in clean_txt if len(i) == min([len(i) for i in clean_txt if i != \"\"])])\n",
    "\n",
    "find_shortest_words(\"I think the solution is fairly obvious.\")\n",
    "find_shortest_words(\"Chase two rabbits, catch none.\")\n",
    "find_shortest_words(\"We become what we think about.\")\n",
    "find_shortest_words(\"The quick brown fox jumped over the lazy dogs back.\")\n",
    "# Test.assert_equals(find_shortest_words(\"The best time to plant the tree was 20 years ago. The second best time is now.\"), ['is', 'to'])\n",
    "find_shortest_words(\"The best time to plant the tree was 20 years ago. The second best time is now.\")"
   ]
  },
  {
   "cell_type": "code",
   "execution_count": 177,
   "metadata": {
    "ExecuteTime": {
     "end_time": "2020-10-13T15:53:03.598593Z",
     "start_time": "2020-10-13T15:53:03.585576Z"
    }
   },
   "outputs": [
    {
     "data": {
      "text/plain": [
       "'abcdefghijklmnopqrstuvwxyz'"
      ]
     },
     "execution_count": 177,
     "metadata": {},
     "output_type": "execute_result"
    }
   ],
   "source": [
    "import string\n",
    "string.ascii_lowercase"
   ]
  }
 ],
 "metadata": {
  "kernelspec": {
   "display_name": "Python 3",
   "language": "python",
   "name": "python3"
  },
  "language_info": {
   "codemirror_mode": {
    "name": "ipython",
    "version": 3
   },
   "file_extension": ".py",
   "mimetype": "text/x-python",
   "name": "python",
   "nbconvert_exporter": "python",
   "pygments_lexer": "ipython3",
   "version": "3.7.4"
  },
  "varInspector": {
   "cols": {
    "lenName": 16,
    "lenType": 16,
    "lenVar": 40
   },
   "kernels_config": {
    "python": {
     "delete_cmd_postfix": "",
     "delete_cmd_prefix": "del ",
     "library": "var_list.py",
     "varRefreshCmd": "print(var_dic_list())"
    },
    "r": {
     "delete_cmd_postfix": ") ",
     "delete_cmd_prefix": "rm(",
     "library": "var_list.r",
     "varRefreshCmd": "cat(var_dic_list()) "
    }
   },
   "types_to_exclude": [
    "module",
    "function",
    "builtin_function_or_method",
    "instance",
    "_Feature"
   ],
   "window_display": false
  }
 },
 "nbformat": 4,
 "nbformat_minor": 2
}
