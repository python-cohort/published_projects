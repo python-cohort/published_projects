{
 "cells": [
  {
   "cell_type": "code",
   "execution_count": null,
   "metadata": {},
   "outputs": [],
   "source": [
    "def currency_count(money, currency):\n",
    "    total = 0\n",
    "    while money:\n",
    "        amount, money = divmod(money, currency.pop())\n",
    "        total += amount\n",
    "        return total\n",
    "currency_count(248, [200,100])"
   ]
  },
  {
   "cell_type": "code",
   "execution_count": 10,
   "metadata": {
    "ExecuteTime": {
     "end_time": "2020-10-15T18:07:08.894762Z",
     "start_time": "2020-10-15T18:07:08.885761Z"
    }
   },
   "outputs": [
    {
     "data": {
      "text/plain": [
       "2"
      ]
     },
     "execution_count": 10,
     "metadata": {},
     "output_type": "execute_result"
    }
   ],
   "source": [
    "def add_bill(money: str):\n",
    "    money_lst = money.split(',')\n",
    "    return sum([int(i[1:]) if \"k\" not in i else int(i[1:].split('k')[0]) * 1000 for i in money_lst if (\"d\" in i)])\n",
    "    \n",
    "\n",
    "add_bill(\"d20,p40,p60,d50\")\n",
    "add_bill(\"p30,d20,p60,d150,p360\")\n",
    "add_bill(\"p30,d2k,p60,d200,p360\")\n",
    "\n",
    "money = \"p30,d2k,p60,d200,p360\"\n",
    "# money_lst = sum([int(item[1:]) if k in item else () for item in money.split(',') if (\"d\" in item)])\n",
    "# money_lst\n",
    "int('d2k'[1:].split('k')[0])"
   ]
  },
  {
   "cell_type": "code",
   "execution_count": 14,
   "metadata": {
    "ExecuteTime": {
     "end_time": "2020-10-15T18:17:44.884011Z",
     "start_time": "2020-10-15T18:17:44.856012Z"
    }
   },
   "outputs": [
    {
     "name": "stdout",
     "output_type": "stream",
     "text": [
      "[4, 4]\n",
      "[5, 3]\n"
     ]
    },
    {
     "data": {
      "text/plain": [
       "'Ansha Mandal GPA for Spring 2018 is 4.00'"
      ]
     },
     "execution_count": 14,
     "metadata": {},
     "output_type": "execute_result"
    }
   ],
   "source": [
    "def gpa_calculator(student: dict):\n",
    "    q_points = {'A': 4, 'B': 3, 'C': 2, 'D': 1, 'F': 0}\n",
    "    grades = [q_points[courses[\"grade\"]] for courses in student[\"courses\"]]\n",
    "    print(grades)\n",
    "    credit_hrs = [courses[\"credit_hours\"] for courses in student[\"courses\"]]\n",
    "    print(credit_hrs)\n",
    "    totalpoints = sum(point * hours for point, hours in zip(grades, credit_hrs))\n",
    "    return \"{} GPA for {} is {:.2f}\".format(student['name'], student['semester'], totalpoints/sum(credit_hrs))\n",
    "\n",
    "\n",
    "# gpa_calculator({\"name\": \"Ansha Mandal\", \"courses\": [{\"name\": \"cal1\", \"credit_hours\": 5, \"grade\": \"A\"}, {\"name\": \"kin1\", \"credit_hours\": 3, \"grade\": \"A\"}], \n",
    "# \"semester\": \"Spring 2018\"}) ➞ \"Ansha Mandal GPA for Spring 2018 is 4.00\n",
    "\n",
    "gpa_calculator({\"name\": \"Ansha Mandal\", \n",
    "                \"courses\": [{\"name\": \"cal1\", \"credit_hours\": 5, \"grade\": \"A\"}, \n",
    "                            {\"name\": \"kin1\", \"credit_hours\": 3, \"grade\": \"A\"}], \n",
    "                \"semester\": \"Spring 2018\"})\n",
    "\n",
    "# first = {\"name\": \"Utsab Karkee\", \"courses\": [{\"name\": \"cal1\", \"credit_hours\": 5, \"grade\": \"A\"}, {\"name\": \"phy1\", \"credit_hours\": 3, \"grade\": \"A\"}, {\"name\": \"eng1\", \"credit_hours\": 3, \"grade\": \"B\"}, {\n",
    "#     \"name\": \"pysch1\", \"credit_hours\": 3, \"grade\": \"A\"}, {\"name\": \"music1\", \"credit_hours\": 3, \"grade\": \"A\"}, {\"name\": \"chem1\", \"credit_hours\": 3, \"grade\": \"A\"}], \"semester\": \"Fall 2013\"}\n",
    "# gpa_calculator(first)"
   ]
  },
  {
   "cell_type": "code",
   "execution_count": 97,
   "metadata": {
    "ExecuteTime": {
     "end_time": "2020-10-13T17:23:58.265828Z",
     "start_time": "2020-10-13T17:23:58.243829Z"
    }
   },
   "outputs": [
    {
     "data": {
      "text/plain": [
       "[6, 7, 4, 5]"
      ]
     },
     "execution_count": 97,
     "metadata": {},
     "output_type": "execute_result"
    }
   ],
   "source": [
    "def flatten(lst):\n",
    "    result = []\n",
    "    for element in lst:   \n",
    "        if isinstance(element, list):\n",
    "            result += flatten(element)\n",
    "        else:\n",
    "            result.append(element)\n",
    "    return result \n",
    "\n",
    "flatten([[6, 7], [4, 5]])\n",
    "# flatten([[[[[[\"cat\"]]]]]])\n",
    "# flatten([[3, [5, 6]], [9, 3]])\n",
    "\n",
    "# Option 2\n",
    "l = [[3, [5, 6]], [9, 3]]\n",
    "for item in \"[]''\":\n",
    "    l = str(l).replace(item, \"\")\n",
    "list(eval(l))"
   ]
  },
  {
   "cell_type": "code",
   "execution_count": 172,
   "metadata": {
    "ExecuteTime": {
     "end_time": "2020-10-14T07:32:56.556069Z",
     "start_time": "2020-10-14T07:32:56.543065Z"
    }
   },
   "outputs": [
    {
     "data": {
      "text/plain": [
       "2"
      ]
     },
     "execution_count": 172,
     "metadata": {},
     "output_type": "execute_result"
    }
   ],
   "source": [
    "def bill_count(money: int, bills: list):\n",
    "    calculated_money = counter = 0\n",
    "    remaining = money\n",
    "    for bill in sorted(bills, reverse=True):\n",
    "        if remaining // bill <= 0:\n",
    "            continue\n",
    "        else:\n",
    "            counter += (remaining // bill)\n",
    "#             print(remaining, counter, bill)\n",
    "            calculated_money = (remaining // bill) * bill\n",
    "            remaining -= calculated_money\n",
    "#             print(calculated_money, remaining, counter, bill)    \n",
    "    return counter\n",
    "            \n",
    "\n",
    "# bill_count(1001, [1, 10, 20])\n",
    "bill_count(1050, [1, 10, 20, 100])\n",
    "bill_count(3, [1, 10])\n",
    "bill_count(55, [1, 5, 10, 50])\n",
    "# 1000 // 10"
   ]
  },
  {
   "cell_type": "code",
   "execution_count": 16,
   "metadata": {
    "ExecuteTime": {
     "end_time": "2020-10-15T18:31:51.070350Z",
     "start_time": "2020-10-15T18:31:51.052829Z"
    }
   },
   "outputs": [
    {
     "data": {
      "text/plain": [
       "55000"
      ]
     },
     "execution_count": 16,
     "metadata": {},
     "output_type": "execute_result"
    }
   ],
   "source": [
    "class Employee:\n",
    "    \n",
    "    def __init__(self, firstname, lastname, salary):\n",
    "        self.firstname = firstname\n",
    "        self.lastname = lastname\n",
    "        self.salary = salary\n",
    "        \n",
    "    @staticmethod\n",
    "    def from_string(str_attr: str):\n",
    "        firstname, lastname, salary = str_attr.split(\"-\")\n",
    "        return Employee(firstname, lastname, int(salary))\n",
    "    \n",
    "#     @classmethod\n",
    "#     def from_string(cls, str_attr: str):\n",
    "#         firstname, lastname, salary = str_attr.split(\"-\")\n",
    "#         return cls(firstname, lastname, int(salary))\n",
    "        \n",
    "        \n",
    "emp1 = Employee(\"Mary\", \"Sue\", 60000)\n",
    "emp2 = Employee.from_string(\"John-Smith-55000\")  \n",
    "\n",
    "emp1.firstname\n",
    "emp2.firstname\n",
    "emp2.salary"
   ]
  }
 ],
 "metadata": {
  "kernelspec": {
   "display_name": "Python 3",
   "language": "python",
   "name": "python3"
  },
  "language_info": {
   "codemirror_mode": {
    "name": "ipython",
    "version": 3
   },
   "file_extension": ".py",
   "mimetype": "text/x-python",
   "name": "python",
   "nbconvert_exporter": "python",
   "pygments_lexer": "ipython3",
   "version": "3.7.4"
  },
  "varInspector": {
   "cols": {
    "lenName": 16,
    "lenType": 16,
    "lenVar": 40
   },
   "kernels_config": {
    "python": {
     "delete_cmd_postfix": "",
     "delete_cmd_prefix": "del ",
     "library": "var_list.py",
     "varRefreshCmd": "print(var_dic_list())"
    },
    "r": {
     "delete_cmd_postfix": ") ",
     "delete_cmd_prefix": "rm(",
     "library": "var_list.r",
     "varRefreshCmd": "cat(var_dic_list()) "
    }
   },
   "types_to_exclude": [
    "module",
    "function",
    "builtin_function_or_method",
    "instance",
    "_Feature"
   ],
   "window_display": false
  }
 },
 "nbformat": 4,
 "nbformat_minor": 2
}
