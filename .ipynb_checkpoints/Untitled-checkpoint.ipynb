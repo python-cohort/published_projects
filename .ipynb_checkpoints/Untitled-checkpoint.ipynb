{
 "cells": [
  {
   "cell_type": "code",
   "execution_count": 4,
   "metadata": {
    "ExecuteTime": {
     "end_time": "2020-10-15T17:20:54.521515Z",
     "start_time": "2020-10-15T17:20:54.510505Z"
    }
   },
   "outputs": [
    {
     "name": "stdout",
     "output_type": "stream",
     "text": [
      "40\n"
     ]
    }
   ],
   "source": [
    "def second_largest(lst):\n",
    "    print( sorted(lst, reverse=True) [1] )\n",
    "\n",
    "second_largest([10, 40, 30, 20, 50])"
   ]
  },
  {
   "cell_type": "code",
   "execution_count": 1,
   "metadata": {
    "ExecuteTime": {
     "end_time": "2020-10-15T17:14:42.840300Z",
     "start_time": "2020-10-15T17:14:42.823308Z"
    }
   },
   "outputs": [
    {
     "name": "stdout",
     "output_type": "stream",
     "text": [
      "anthony.walker@company.com\n"
     ]
    }
   ],
   "source": [
    "class Employee:\n",
    "    def __init__(self, first_name, last_name):\n",
    "        self.first_name = first_name\n",
    "        self.last_name = last_name\n",
    "        self.full_name = first_name + ' ' + last_name\n",
    "        self.email = (first_name + '.' + last_name + '@company.com').lower()\n",
    "         \n",
    "emp_1 = Employee(\"Anthony\", \"Walker\")\n",
    "emp_2 = Employee(\"Mary\", \"Sue\")\n",
    "emp_3 = Employee(\"John\", \"Smith\")\n",
    " \n",
    "print(emp_1.email)"
   ]
  },
  {
   "cell_type": "code",
   "execution_count": 6,
   "metadata": {
    "ExecuteTime": {
     "end_time": "2020-10-15T17:23:34.856184Z",
     "start_time": "2020-10-15T17:23:34.829883Z"
    }
   },
   "outputs": [
    {
     "data": {
      "text/plain": [
       "[5, 5]"
      ]
     },
     "execution_count": 6,
     "metadata": {},
     "output_type": "execute_result"
    }
   ],
   "source": [
    "def word_lengths(lst):\n",
    "    return [len(item) for item in lst]\n",
    "\n",
    "word_lengths([\"hello\", \"world\"]) #➞ [5, 5]"
   ]
  },
  {
   "cell_type": "code",
   "execution_count": 8,
   "metadata": {
    "ExecuteTime": {
     "end_time": "2020-10-15T17:28:01.126012Z",
     "start_time": "2020-10-15T17:28:01.109036Z"
    }
   },
   "outputs": [
    {
     "data": {
      "text/plain": [
       "['cleverly', 'meekly', 'hurriedly', 'nicely']"
      ]
     },
     "execution_count": 8,
     "metadata": {},
     "output_type": "execute_result"
    }
   ],
   "source": [
    "def add_ending(lst, suffix):\n",
    "    result = []\n",
    "    for item in lst:\n",
    "        result.append(item + suffix)\n",
    "    return result #[item + suffix for item in lst]\n",
    "add_ending([\"clever\", \"meek\", \"hurried\", \"nice\"], \"ly\")"
   ]
  },
  {
   "cell_type": "code",
   "execution_count": 9,
   "metadata": {
    "ExecuteTime": {
     "end_time": "2020-10-15T17:31:33.495932Z",
     "start_time": "2020-10-15T17:31:33.475949Z"
    }
   },
   "outputs": [
    {
     "data": {
      "text/plain": [
       "[8, 12, 4, 0]"
      ]
     },
     "execution_count": 9,
     "metadata": {},
     "output_type": "execute_result"
    }
   ],
   "source": [
    "def MultiplyByLength(lst):\n",
    "    return [item * len(lst) for item in lst]\n",
    "    \n",
    "    \n",
    "MultiplyByLength([2, 3, 1, 0])"
   ]
  }
 ],
 "metadata": {
  "kernelspec": {
   "display_name": "Python 3",
   "language": "python",
   "name": "python3"
  },
  "language_info": {
   "codemirror_mode": {
    "name": "ipython",
    "version": 3
   },
   "file_extension": ".py",
   "mimetype": "text/x-python",
   "name": "python",
   "nbconvert_exporter": "python",
   "pygments_lexer": "ipython3",
   "version": "3.7.4"
  },
  "varInspector": {
   "cols": {
    "lenName": 16,
    "lenType": 16,
    "lenVar": 40
   },
   "kernels_config": {
    "python": {
     "delete_cmd_postfix": "",
     "delete_cmd_prefix": "del ",
     "library": "var_list.py",
     "varRefreshCmd": "print(var_dic_list())"
    },
    "r": {
     "delete_cmd_postfix": ") ",
     "delete_cmd_prefix": "rm(",
     "library": "var_list.r",
     "varRefreshCmd": "cat(var_dic_list()) "
    }
   },
   "types_to_exclude": [
    "module",
    "function",
    "builtin_function_or_method",
    "instance",
    "_Feature"
   ],
   "window_display": false
  }
 },
 "nbformat": 4,
 "nbformat_minor": 2
}
