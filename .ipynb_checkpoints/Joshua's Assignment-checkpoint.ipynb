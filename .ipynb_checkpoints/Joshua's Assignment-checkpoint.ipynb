{
 "cells": [
  {
   "cell_type": "code",
   "execution_count": 13,
   "metadata": {
    "ExecuteTime": {
     "end_time": "2020-10-12T11:15:24.741610Z",
     "start_time": "2020-10-12T11:15:22.002609Z"
    }
   },
   "outputs": [
    {
     "name": "stdout",
     "output_type": "stream",
     "text": [
      "Enter a price in Pounds, e.g £90: 1500\n",
      "Enter a discount rate to apply, e.g 20%: 20\n",
      "discounted price: £1200.00\n"
     ]
    }
   ],
   "source": [
    "def price_discount():\n",
    "    price = int(input(\"Enter a price in Pounds, e.g £90: \"))\n",
    "    discount = input(\"Enter a discount rate to apply, e.g 20%: \")\n",
    "    analysed_discount = int(discount.strip('%')[0] if '%' in discount else discount)/100\n",
    "    print('discounted price: £{:.2f}'.format(price * (1 - analysed_discount)))\n",
    "\n",
    "price_discount()\n",
    "def discounted_price(Amount, discount):\n",
    "    return Amount*(1-discount)\n",
    "\n",
    "print (discounted_price(900, 0.8))"
   ]
  },
  {
   "cell_type": "code",
   "execution_count": 5,
   "metadata": {
    "ExecuteTime": {
     "end_time": "2020-10-15T17:41:41.022472Z",
     "start_time": "2020-10-15T17:41:41.001470Z"
    }
   },
   "outputs": [
    {
     "name": "stdout",
     "output_type": "stream",
     "text": [
      "UPPER CASE 1\n",
      "LOWER CASE 9\n",
      "\n"
     ]
    }
   ],
   "source": [
    "def case_counter(sentence):\n",
    "#     sentence = str(input())\n",
    "    def n_lower_chars(string):\n",
    "        return sum(map(str.islower, string))\n",
    "\n",
    "    def n_upper_chars(string):\n",
    "        return sum(map(str.isupper, string))\n",
    "    print(f\"UPPER CASE {n_upper_chars(sentence)}\\nLOWER CASE {n_lower_chars(sentence)}\\n\")\n",
    "\n",
    "case_counter(\"Hello world!\")"
   ]
  },
  {
   "cell_type": "code",
   "execution_count": 25,
   "metadata": {
    "ExecuteTime": {
     "end_time": "2020-10-12T11:22:26.867193Z",
     "start_time": "2020-10-12T11:22:26.856217Z"
    }
   },
   "outputs": [
    {
     "name": "stdout",
     "output_type": "stream",
     "text": [
      "UPPER CASE 1\n",
      "LOWER CASE 9\n",
      "\n"
     ]
    }
   ],
   "source": [
    "def case_counter(sentence: str):\n",
    "    upper_case_count = sum(1 for word in list(sentence) if word.isupper())\n",
    "    lower_case_count = sum(1 for word in list(sentence) if word.islower())\n",
    "    print(f\"UPPER CASE {upper_case_count}\\nLOWER CASE {lower_case_count}\\n\")\n",
    "\n",
    "case_counter(\"Hello world!\")"
   ]
  },
  {
   "cell_type": "code",
   "execution_count": 6,
   "metadata": {
    "ExecuteTime": {
     "end_time": "2020-10-15T17:43:18.684304Z",
     "start_time": "2020-10-15T17:43:18.675781Z"
    }
   },
   "outputs": [
    {
     "data": {
      "text/plain": [
       "[1, 2, 3, 4]"
      ]
     },
     "execution_count": 6,
     "metadata": {},
     "output_type": "execute_result"
    }
   ],
   "source": [
    "def flatten (l):\n",
    "    return flatten(l[0]) + (flatten(l[1:]) if len(l) > 1 else []) if type(l) is list else [l]\n",
    "\n",
    "flatten([ [1, 2], [3, 4] ])"
   ]
  },
  {
   "cell_type": "code",
   "execution_count": 27,
   "metadata": {
    "ExecuteTime": {
     "end_time": "2020-10-12T11:23:52.156112Z",
     "start_time": "2020-10-12T11:23:52.144091Z"
    }
   },
   "outputs": [
    {
     "data": {
      "text/plain": [
       "[1, 2, 3, 4]"
      ]
     },
     "execution_count": 27,
     "metadata": {},
     "output_type": "execute_result"
    }
   ],
   "source": [
    "def flatten(lst: list):\n",
    "    from itertools import chain\n",
    "    return list(chain.from_iterable(lst))\n",
    "\n",
    "flatten([ [1, 2], [3, 4] ])"
   ]
  },
  {
   "cell_type": "code",
   "execution_count": 11,
   "metadata": {
    "ExecuteTime": {
     "end_time": "2020-10-15T17:46:41.804741Z",
     "start_time": "2020-10-15T17:46:41.780741Z"
    }
   },
   "outputs": [
    {
     "data": {
      "text/plain": [
       "False"
      ]
     },
     "execution_count": 11,
     "metadata": {},
     "output_type": "execute_result"
    }
   ],
   "source": [
    "def list_xor(n, list1, list2):\n",
    "    if n in ((list1 and list2) or not (list1 and list2)):\n",
    "        return False\n",
    "    else:\n",
    "        return True\n",
    "    \n",
    "list_xor(1, [1,2,3], [4,5,6])\n",
    "list_xor(1, [0,2,3], [1,5,6])\n",
    "\n",
    "\"\"\"\n",
    "if n is in both lists or in none of the lists, return False. If n is in only one of the lists, return True.\n",
    "\n",
    "\"\"\""
   ]
  },
  {
   "cell_type": "code",
   "execution_count": 9,
   "metadata": {
    "ExecuteTime": {
     "end_time": "2020-10-15T17:45:17.463256Z",
     "start_time": "2020-10-15T17:45:17.445250Z"
    }
   },
   "outputs": [
    {
     "data": {
      "text/plain": [
       "True"
      ]
     },
     "execution_count": 9,
     "metadata": {},
     "output_type": "execute_result"
    }
   ],
   "source": [
    "def list_xor(n, list1, list2):\n",
    "    if ((n in list1) and (n in list2)) or ((n not in list1) and (n not in list2)):\n",
    "        return False\n",
    "    return (n in list1) or (n in list2)\n",
    "\n",
    "list_xor(1, [1,2,3], [4,5,6])\n",
    "list_xor(1, [0,2,3], [1,5,6])\n",
    "# list_xor(1, [1,2,3], [1,5,6])\n",
    "# list_xor(1, [0,0,0], [4,5,6])"
   ]
  },
  {
   "cell_type": "code",
   "execution_count": 20,
   "metadata": {
    "ExecuteTime": {
     "end_time": "2020-10-15T17:54:42.484139Z",
     "start_time": "2020-10-15T17:54:42.469139Z"
    }
   },
   "outputs": [
    {
     "data": {
      "text/plain": [
       "[(5, 4),\n",
       " (5, 2),\n",
       " (5, 1),\n",
       " (4, 2),\n",
       " (4, 1),\n",
       " (2, 1),\n",
       " (5, 4, 2),\n",
       " (5, 4, 1),\n",
       " (5, 2, 1),\n",
       " (4, 2, 1),\n",
       " (5, 4, 2, 1)]"
      ]
     },
     "execution_count": 20,
     "metadata": {},
     "output_type": "execute_result"
    }
   ],
   "source": [
    "def longest_run(my_list):\n",
    "    my_index = split_list(my_list)\n",
    "    output = list()\n",
    "    prev = 0\n",
    "    for index in my_index:\n",
    "        new_list = [x for x in list[prev:] if x < index]\n",
    "        output.append(new_list)\n",
    "        prev += len(new_list)\n",
    "    output.append([x for x in my_list[prev:]])\n",
    "    return output\n",
    "\n",
    "\n",
    "\n",
    "#my_list = [1, 2, 3, 5, 6, 7, 8, 9]\n",
    "# print(longest_run([1, 2, 3, 5, 6, 7, 8, 9]))\n",
    "from itertools import combinations, chain\n",
    "lst = [5, 4, 2, 1]\n",
    "list(chain.from_iterable([list(combinations(lst, n)) for n in range(2, len(lst) + 1)]))"
   ]
  },
  {
   "cell_type": "code",
   "execution_count": 95,
   "metadata": {
    "ExecuteTime": {
     "end_time": "2020-10-12T12:19:55.193512Z",
     "start_time": "2020-10-12T12:19:55.168514Z"
    }
   },
   "outputs": [
    {
     "data": {
      "text/plain": [
       "1"
      ]
     },
     "execution_count": 95,
     "metadata": {},
     "output_type": "execute_result"
    }
   ],
   "source": [
    "\"\"\"\n",
    "A consecutive-run is a list of adjacent, consecutive integers. \n",
    "This list can be either increasing or decreasing. \n",
    "Create a function that takes a list of numbers and returns the length of the longest consecutive-run.\n",
    "\"\"\"\n",
    "\n",
    "def longest_run(lst):\n",
    "    from itertools import combinations, chain\n",
    "    options = list(chain.from_iterable([list(combinations(lst, n)) for n in range(2, len(lst) + 1)]))\n",
    "    def increasing_or_decreasing(iterable):\n",
    "        if (iterable[0] < iterable[-1]):\n",
    "            return sum(range(iterable[0], iterable[-1] + 1)) # increasing range\n",
    "        return sum(range(iterable[0], iterable[-1] - 1, -1)) # decreasing range\n",
    "    len_of_consecutives = list(len(option) for option in options if sum(option) == increasing_or_decreasing(option))\n",
    "    return max(len_of_consecutives) if len_of_consecutives else 1\n",
    "\n",
    "longest_run([5, 4, 2, 1])\n",
    "longest_run([3, 5, 7, 10, 15])"
   ]
  },
  {
   "cell_type": "code",
   "execution_count": 131,
   "metadata": {
    "ExecuteTime": {
     "end_time": "2020-10-12T12:48:20.919425Z",
     "start_time": "2020-10-12T12:48:20.902427Z"
    }
   },
   "outputs": [
    {
     "name": "stdout",
     "output_type": "stream",
     "text": [
      "49 c a\n"
     ]
    },
    {
     "data": {
      "text/plain": [
       "True"
      ]
     },
     "execution_count": 131,
     "metadata": {},
     "output_type": "execute_result"
    }
   ],
   "source": [
    "def remove_repeats(word: str):\n",
    "    unique = \"\"\n",
    "    for idx, letter in enumerate(word):\n",
    "        if idx < len(word) - 1:\n",
    "            if word[idx] != word[idx + 1]:\n",
    "                unique += letter\n",
    "        else:\n",
    "            unique += letter\n",
    "    return unique\n",
    "# remove_repeats(\"nananana\")\n",
    "# remove_repeats(\"bookkeeper\")\n",
    "# remove_repeats(\"aaabbbccc\")\n",
    "# remove_repeats(\"nananana\")\n",
    "# Test.assert_equals(remove_repeats(\"cdaaaabbccaccacbdabdbbccbbddddddcadcbbccbccdbaddac\"), \"cdabcacacbdabdbcbdcadcbcbcdbadac\")\n",
    "remove_repeats(\"cdaaaabbccaccacbdabdbbccbbddddddcadcbbccbccdbaddac\") == \"cdabcacacbdabdbcbdcadcbcbcdbadac\""
   ]
  },
  {
   "cell_type": "code",
   "execution_count": 22,
   "metadata": {
    "ExecuteTime": {
     "end_time": "2020-10-15T17:58:33.649494Z",
     "start_time": "2020-10-15T17:58:33.631489Z"
    }
   },
   "outputs": [
    {
     "data": {
      "text/plain": [
       "True"
      ]
     },
     "execution_count": 22,
     "metadata": {},
     "output_type": "execute_result"
    }
   ],
   "source": [
    "def remove_repeat(word):\n",
    "    result = []\n",
    "    for i in word:\n",
    "        if not result:\n",
    "            result.append(i)\n",
    "        else:\n",
    "            if result[-1] != i:\n",
    "                result.append(i)\n",
    "    return \"\".join(result)\n",
    "   \n",
    "# word = [\"aaabbbccc\"]\n",
    "# for i in word:\n",
    "#     print (remove_repeat(i))\n",
    "\n",
    "remove_repeat(\"cdaaaabbccaccacbdabdbbccbbddddddcadcbbccbccdbaddac\") == \"cdabcacacbdabdbcbdcadcbcbcdbadac\""
   ]
  }
 ],
 "metadata": {
  "kernelspec": {
   "display_name": "Python 3",
   "language": "python",
   "name": "python3"
  },
  "language_info": {
   "codemirror_mode": {
    "name": "ipython",
    "version": 3
   },
   "file_extension": ".py",
   "mimetype": "text/x-python",
   "name": "python",
   "nbconvert_exporter": "python",
   "pygments_lexer": "ipython3",
   "version": "3.7.4"
  },
  "varInspector": {
   "cols": {
    "lenName": 16,
    "lenType": 16,
    "lenVar": 40
   },
   "kernels_config": {
    "python": {
     "delete_cmd_postfix": "",
     "delete_cmd_prefix": "del ",
     "library": "var_list.py",
     "varRefreshCmd": "print(var_dic_list())"
    },
    "r": {
     "delete_cmd_postfix": ") ",
     "delete_cmd_prefix": "rm(",
     "library": "var_list.r",
     "varRefreshCmd": "cat(var_dic_list()) "
    }
   },
   "types_to_exclude": [
    "module",
    "function",
    "builtin_function_or_method",
    "instance",
    "_Feature"
   ],
   "window_display": false
  }
 },
 "nbformat": 4,
 "nbformat_minor": 2
}
