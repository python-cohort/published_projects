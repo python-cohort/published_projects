{
 "cells": [
  {
   "cell_type": "code",
   "execution_count": 25,
   "metadata": {
    "ExecuteTime": {
     "end_time": "2020-10-11T13:52:33.209403Z",
     "start_time": "2020-10-11T13:52:33.192404Z"
    }
   },
   "outputs": [
    {
     "data": {
      "text/plain": [
       "12"
      ]
     },
     "execution_count": 25,
     "metadata": {},
     "output_type": "execute_result"
    }
   ],
   "source": [
    "# https://edabit.com/challenge/Nda8BQHhZSajpnt5z\n",
    "from math import gcd\n",
    "from functools import reduce\n",
    "def GCD(lst):\n",
    "    return reduce(gcd, lst)\n",
    "\n",
    "GCD([156, 84, 60, 1188, 252])\n",
    "# help(reduce)"
   ]
  },
  {
   "cell_type": "code",
   "execution_count": 29,
   "metadata": {
    "ExecuteTime": {
     "end_time": "2020-10-11T14:03:12.964741Z",
     "start_time": "2020-10-11T14:03:12.944745Z"
    }
   },
   "outputs": [
    {
     "data": {
      "text/plain": [
       "12"
      ]
     },
     "execution_count": 29,
     "metadata": {},
     "output_type": "execute_result"
    }
   ],
   "source": [
    "# def gcd(a, b):\n",
    "#     while b != 0:\n",
    "#        t = b\n",
    "#        b = a % b\n",
    "#        a = t\n",
    "#     return a\n",
    "\n",
    "def GCD(lst):\n",
    "    for i in range(min(lst),0,-1):\n",
    "        if all(not x%i for x in lst):\n",
    "            return i\n",
    "GCD([156, 84, 60, 1188, 252])"
   ]
  },
  {
   "cell_type": "code",
   "execution_count": 43,
   "metadata": {
    "ExecuteTime": {
     "end_time": "2020-10-11T14:21:18.256102Z",
     "start_time": "2020-10-11T14:21:18.233092Z"
    }
   },
   "outputs": [
    {
     "data": {
      "text/plain": [
       "2"
      ]
     },
     "execution_count": 43,
     "metadata": {},
     "output_type": "execute_result"
    }
   ],
   "source": [
    "# https://edabit.com/challenge/r9y4yrSAGRaqTT7nM\n",
    "def find_missing(lst):\n",
    "    if lst is None or any([not x for x in lst]):\n",
    "        return False\n",
    "    sorted_len = sorted([len(x) for x in lst])\n",
    "    if sorted:\n",
    "        return sum(range(min(sorted_len), max(sorted_len) + 1)) - sum(sorted_len)\n",
    "\n",
    "find_missing([[False], [False, False, False]])"
   ]
  },
  {
   "cell_type": "code",
   "execution_count": null,
   "metadata": {
    "ExecuteTime": {
     "end_time": "2020-10-12T06:52:26.622322Z",
     "start_time": "2020-10-12T06:52:26.608322Z"
    }
   },
   "outputs": [],
   "source": []
  },
  {
   "cell_type": "code",
   "execution_count": 72,
   "metadata": {
    "ExecuteTime": {
     "end_time": "2020-10-12T09:19:38.779567Z",
     "start_time": "2020-10-12T09:19:38.753565Z"
    }
   },
   "outputs": [
    {
     "data": {
      "text/plain": [
       "True"
      ]
     },
     "execution_count": 72,
     "metadata": {},
     "output_type": "execute_result"
    }
   ],
   "source": [
    "# https://edabit.com/challenge/E8TSTy4R5eWEkkaKf\n",
    "def is_valid(ip4_address: str):\n",
    "    if not ip4_address or any ([not num.isdigit() for num in ip4_address.split('.')]):\n",
    "        return False\n",
    "    contains_three_dots = ip4_address.count('.') == 3\n",
    "    number_is_within_range = all([0 <= int(num) <= 255 for num in ip4_address.split('.')])\n",
    "    no_leading_zero = all([(num[0] != '0') if len(num) > 1 else True for num in ip4_address.split('.')])\n",
    "    return contains_three_dots & number_is_within_range & no_leading_zero\n",
    "\n",
    "is_valid(\"0.232.47.227\")"
   ]
  },
  {
   "cell_type": "code",
   "execution_count": 4,
   "metadata": {
    "ExecuteTime": {
     "end_time": "2020-10-15T18:52:51.115411Z",
     "start_time": "2020-10-15T18:52:51.092827Z"
    }
   },
   "outputs": [
    {
     "name": "stdout",
     "output_type": "stream",
     "text": [
      "[[4, 5], [4, 1], [4, 3], [4, 6], [4, 8], [5, 1], [5, 3], [5, 6], [5, 8], [1, 3], [1, 6], [1, 8], [3, 6], [3, 8], [6, 8]]\n"
     ]
    },
    {
     "data": {
      "text/plain": [
       "[[1, 8], [3, 6], [4, 5]]"
      ]
     },
     "execution_count": 4,
     "metadata": {},
     "output_type": "execute_result"
    }
   ],
   "source": [
    "# https://edabit.com/challenge/8LZdBwmpBiLJ5Sobt\n",
    "def all_pairs(lst, target):\n",
    "    from itertools import combinations\n",
    "    print([list(i) for i in combinations(lst, 2)])\n",
    "    return sorted([sorted(list(i)) for i in combinations(lst, 2) if sum(i) == target])\n",
    "\n",
    "# all_pairs([5, 3, 9, 2, 1], 3)\n",
    "# all_pairs([2, 4, 5, 3], 7)\n",
    "all_pairs([4, 5, 1, 3, 6, 8], 9)\n",
    "\n"
   ]
  },
  {
   "cell_type": "code",
   "execution_count": 184,
   "metadata": {
    "ExecuteTime": {
     "end_time": "2020-10-12T11:03:57.970206Z",
     "start_time": "2020-10-12T11:03:57.959206Z"
    }
   },
   "outputs": [
    {
     "data": {
      "text/plain": [
       "8"
      ]
     },
     "execution_count": 184,
     "metadata": {},
     "output_type": "execute_result"
    }
   ],
   "source": [
    "# https://edabit.com/challenge/nn7Na6zHLEHS9R8j2\n",
    "\n",
    "# def deep_count(lst: list):\n",
    "#     if not isinstance(lst, list):\n",
    "#         return 0\n",
    "#     return len(lst) + sum(map(deep_count, lst))\n",
    "\n",
    "def deep_count(lst):\n",
    "    counter = 0\n",
    "    for element in lst:\n",
    "        if isinstance(element, list):\n",
    "            counter += 1\n",
    "            counter += deep_count(element)\n",
    "        else:\n",
    "            counter +=1\n",
    "    return counter\n",
    "    \n",
    "deep_count([[None], [False, [\"edabit\"]], [0]])\n",
    "# deep_count([\"a\", \"b\", [\"c\", \"d\", [\"e\"]]])\n",
    "# deep_count([\"x\", \"y\", [\"z\"]])\n",
    "deep_count([[[[[[[[[]]]]]]]]])"
   ]
  },
  {
   "cell_type": "code",
   "execution_count": 185,
   "metadata": {
    "ExecuteTime": {
     "end_time": "2020-10-12T11:05:37.983070Z",
     "start_time": "2020-10-12T11:05:37.967069Z"
    }
   },
   "outputs": [
    {
     "data": {
      "text/plain": [
       "1"
      ]
     },
     "execution_count": 185,
     "metadata": {},
     "output_type": "execute_result"
    }
   ],
   "source": [
    "from itertools import chain\n",
    "def len_of_list(lst):\n",
    "    return len(lst)\n",
    "sum(map(len_of_list, [\"z\"]))"
   ]
  }
 ],
 "metadata": {
  "kernelspec": {
   "display_name": "Python 3",
   "language": "python",
   "name": "python3"
  },
  "language_info": {
   "codemirror_mode": {
    "name": "ipython",
    "version": 3
   },
   "file_extension": ".py",
   "mimetype": "text/x-python",
   "name": "python",
   "nbconvert_exporter": "python",
   "pygments_lexer": "ipython3",
   "version": "3.7.4"
  },
  "varInspector": {
   "cols": {
    "lenName": 16,
    "lenType": 16,
    "lenVar": 40
   },
   "kernels_config": {
    "python": {
     "delete_cmd_postfix": "",
     "delete_cmd_prefix": "del ",
     "library": "var_list.py",
     "varRefreshCmd": "print(var_dic_list())"
    },
    "r": {
     "delete_cmd_postfix": ") ",
     "delete_cmd_prefix": "rm(",
     "library": "var_list.r",
     "varRefreshCmd": "cat(var_dic_list()) "
    }
   },
   "types_to_exclude": [
    "module",
    "function",
    "builtin_function_or_method",
    "instance",
    "_Feature"
   ],
   "window_display": false
  }
 },
 "nbformat": 4,
 "nbformat_minor": 2
}
